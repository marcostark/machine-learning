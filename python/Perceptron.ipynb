{
  "nbformat": 4,
  "nbformat_minor": 0,
  "metadata": {
    "colab": {
      "name": "Perceptron.ipynb",
      "version": "0.3.2",
      "provenance": [],
      "include_colab_link": true
    },
    "language_info": {
      "codemirror_mode": {
        "name": "ipython",
        "version": 3
      },
      "file_extension": ".py",
      "mimetype": "text/x-python",
      "name": "python",
      "nbconvert_exporter": "python",
      "pygments_lexer": "ipython3",
      "version": "3.7.3"
    },
    "kernelspec": {
      "display_name": "Python 3",
      "language": "python",
      "name": "python3"
    }
  },
  "cells": [
    {
      "cell_type": "markdown",
      "metadata": {
        "id": "view-in-github",
        "colab_type": "text"
      },
      "source": [
        "<a href=\"https://colab.research.google.com/github/marcostark/machine-learning/blob/master/python/Perceptron.ipynb\" target=\"_parent\"><img src=\"https://colab.research.google.com/assets/colab-badge.svg\" alt=\"Open In Colab\"/></a>"
      ]
    },
    {
      "cell_type": "code",
      "metadata": {
        "id": "Xks1HIxToEBo",
        "colab_type": "code",
        "colab": {},
        "outputId": "c13e274c-dec6-4e14-e3a1-75e14a1541be"
      },
      "source": [
        "!pip install mlxtend"
      ],
      "execution_count": 0,
      "outputs": [
        {
          "output_type": "stream",
          "text": [
            "Collecting mlxtend\n",
            "\u001b[?25l  Downloading https://files.pythonhosted.org/packages/c0/ca/54fe0ae783ce81a467710d1c5fb41cfca075121139b48327b807020dc40c/mlxtend-0.16.0-py2.py3-none-any.whl (1.3MB)\n",
            "\u001b[K     |████████████████████████████████| 1.3MB 394kB/s eta 0:00:01\n",
            "\u001b[?25hRequirement already satisfied: numpy>=1.10.4 in /home/stark/anaconda3/envs/machinelearning/lib/python3.7/site-packages (from mlxtend) (1.16.4)\n",
            "Requirement already satisfied: matplotlib>=1.5.1 in /home/stark/anaconda3/envs/machinelearning/lib/python3.7/site-packages (from mlxtend) (3.0.3)\n",
            "Requirement already satisfied: scikit-learn>=0.18 in /home/stark/anaconda3/envs/machinelearning/lib/python3.7/site-packages (from mlxtend) (0.21.1)\n",
            "Requirement already satisfied: scipy>=0.17 in /home/stark/anaconda3/envs/machinelearning/lib/python3.7/site-packages (from mlxtend) (1.2.1)\n",
            "Requirement already satisfied: pandas>=0.17.1 in /home/stark/anaconda3/envs/machinelearning/lib/python3.7/site-packages (from mlxtend) (0.24.2)\n",
            "Requirement already satisfied: setuptools in /home/stark/anaconda3/envs/machinelearning/lib/python3.7/site-packages (from mlxtend) (41.0.1)\n",
            "Requirement already satisfied: cycler>=0.10 in /home/stark/anaconda3/envs/machinelearning/lib/python3.7/site-packages (from matplotlib>=1.5.1->mlxtend) (0.10.0)\n",
            "Requirement already satisfied: kiwisolver>=1.0.1 in /home/stark/anaconda3/envs/machinelearning/lib/python3.7/site-packages (from matplotlib>=1.5.1->mlxtend) (1.1.0)\n",
            "Requirement already satisfied: pyparsing!=2.0.4,!=2.1.2,!=2.1.6,>=2.0.1 in /home/stark/anaconda3/envs/machinelearning/lib/python3.7/site-packages (from matplotlib>=1.5.1->mlxtend) (2.4.0)\n",
            "Requirement already satisfied: python-dateutil>=2.1 in /home/stark/anaconda3/envs/machinelearning/lib/python3.7/site-packages (from matplotlib>=1.5.1->mlxtend) (2.8.0)\n",
            "Requirement already satisfied: joblib>=0.11 in /home/stark/anaconda3/envs/machinelearning/lib/python3.7/site-packages (from scikit-learn>=0.18->mlxtend) (0.13.2)\n",
            "Requirement already satisfied: pytz>=2011k in /home/stark/anaconda3/envs/machinelearning/lib/python3.7/site-packages (from pandas>=0.17.1->mlxtend) (2019.1)\n",
            "Requirement already satisfied: six in /home/stark/anaconda3/envs/machinelearning/lib/python3.7/site-packages (from cycler>=0.10->matplotlib>=1.5.1->mlxtend) (1.12.0)\n",
            "Installing collected packages: mlxtend\n",
            "Successfully installed mlxtend-0.16.0\n"
          ],
          "name": "stdout"
        }
      ]
    },
    {
      "cell_type": "code",
      "metadata": {
        "id": "zjvt3Z9poEBx",
        "colab_type": "code",
        "colab": {}
      },
      "source": [
        "import numpy as np\n",
        "import pandas as pd\n",
        "import matplotlib.pyplot as plt\n",
        "from mlxtend.plotting import plot_decision_regions\n",
        "from time import time\n",
        "%matplotlib inline"
      ],
      "execution_count": 0,
      "outputs": []
    },
    {
      "cell_type": "code",
      "metadata": {
        "id": "B6ZhgHIZoN8M",
        "colab_type": "code",
        "colab": {}
      },
      "source": [
        ""
      ],
      "execution_count": 0,
      "outputs": []
    },
    {
      "cell_type": "code",
      "metadata": {
        "id": "_bymBsBLoEB0",
        "colab_type": "code",
        "colab": {}
      },
      "source": [
        "#eta: Taxa de aprendizagem\n",
        "#epochs: Numero de passos a serem executados\n",
        "# Apenas um comentario\n",
        "\n",
        "class Perceptron(object):\n",
        "    def __init__(self, eta=0.01, epoch = 50):\n",
        "        self.eta = eta\n",
        "        self.epoch = epoch\n",
        "        \n",
        "    def train(self, x, y):\n",
        "        self.w_ = np.zeros(1 + x.shape[1])\n",
        "        self.errors_ = []\n",
        "        \n",
        "        for _ in range(self.epoch):\n",
        "            errors = 0\n",
        "            for xi, target in zip(x,y):\n",
        "                update = self.eta * (target - self.predict(xi))\n",
        "                self.w_[1:] += update * xi\n",
        "                self.w_[0] += update\n",
        "                errors += int(update != 0.0)\n",
        "            self.errors_.append(errors)\n",
        "        return self\n",
        "    \n",
        "    def net_input(self, X):\n",
        "        return np.dot(X, self.w_[1:]) + self.w_[0]\n",
        "    \n",
        "    def predict(self, X):\n",
        "        return np.where(self.net_input(X) >= 0.0, 1, -1)"
      ],
      "execution_count": 0,
      "outputs": []
    },
    {
      "cell_type": "code",
      "metadata": {
        "id": "3p2lGfIFoEB3",
        "colab_type": "code",
        "colab": {}
      },
      "source": [
        "#dataset\n",
        "df = pd.read_csv('https://archive.ics.uci.edu/ml/machine-learning-databases/iris/iris.data', header = None)"
      ],
      "execution_count": 0,
      "outputs": []
    },
    {
      "cell_type": "code",
      "metadata": {
        "id": "_fJzz2R1oEB7",
        "colab_type": "code",
        "colab": {}
      },
      "source": [
        "# Dados das duas classes\n",
        "y = df.iloc[0:100,4].values\n",
        "y = np.where(y == 'Iris-setosa',-1, 1)\n",
        "X = df.iloc[0:100, [0,2]].values"
      ],
      "execution_count": 0,
      "outputs": []
    },
    {
      "cell_type": "code",
      "metadata": {
        "id": "clWXzeZioEB-",
        "colab_type": "code",
        "colab": {}
      },
      "source": [
        "# Criando o modelo de treinamento\n",
        "model = Perceptron(epoch=500, eta = 0.1)"
      ],
      "execution_count": 0,
      "outputs": []
    },
    {
      "cell_type": "code",
      "metadata": {
        "id": "OHyToR89oECB",
        "colab_type": "code",
        "colab": {
          "base_uri": "https://localhost:8080/",
          "height": 34
        },
        "outputId": "4598b821-1ca6-44ec-9df8-bcff70426862"
      },
      "source": [
        "model.train(X,y)"
      ],
      "execution_count": 9,
      "outputs": [
        {
          "output_type": "execute_result",
          "data": {
            "text/plain": [
              "<__main__.Perceptron at 0x7fbc81819b70>"
            ]
          },
          "metadata": {
            "tags": []
          },
          "execution_count": 9
        }
      ]
    },
    {
      "cell_type": "code",
      "metadata": {
        "id": "qGzicoKdoECG",
        "colab_type": "code",
        "colab": {
          "base_uri": "https://localhost:8080/",
          "height": 595
        },
        "outputId": "5003b388-87f8-44f2-ff5d-ea16e2ec34cd"
      },
      "source": [
        "#Platando\n",
        "\n",
        "print('Pesos: %s' % model.w_)\n",
        "plot_decision_regions(X, y, clf = model)\n",
        "plt.title('Perceptron')\n",
        "plt.xlabel('Tamanho da Sepala (cm)')\n",
        "plt.ylabel('Tamanho da Petala (cm)')\n",
        "plt.show()\n",
        "\n",
        "plt.plot(range(1, len(model.errors_)+1), model.errors_, marker = 'o')\n",
        "plt.xlabel('Iterações')\n",
        "plt.ylabel('Classificações Incorretas')\n",
        "plt.show"
      ],
      "execution_count": 10,
      "outputs": [
        {
          "output_type": "stream",
          "text": [
            "Pesos: [-0.4  -0.68  1.82]\n"
          ],
          "name": "stdout"
        },
        {
          "output_type": "display_data",
          "data": {
            "image/png": "[encoded data removed]",
            "text/plain": [
              "<Figure size 432x288 with 1 Axes>"
            ]
          },
          "metadata": {
            "tags": []
          }
        },
        {
          "output_type": "execute_result",
          "data": {
            "text/plain": [
              "<function matplotlib.pyplot.show>"
            ]
          },
          "metadata": {
            "tags": []
          },
          "execution_count": 10
        },
        {
          "output_type": "display_data",
          "data": {
            "image/png": "[encoded data removed]",
            "text/plain": [
              "<Figure size 432x288 with 1 Axes>"
            ]
          },
          "metadata": {
            "tags": []
          }
        }
      ]
    },
    {
      "cell_type": "code",
      "metadata": {
        "id": "XEngFU0JoECL",
        "colab_type": "code",
        "colab": {}
      },
      "source": [
        ""
      ],
      "execution_count": 0,
      "outputs": []
    }
  ]
}
{
 "nbformat": 4,
 "nbformat_minor": 0,
 "metadata": {
  "colab": {
   "name": "Untitled",
   "version": "0.3.2",
   "provenance": [],
   "include_colab_link": true
  },
  "kernelspec": {
   "name": "python3",
   "language": "python",
   "display_name": "Python 3"
  },
  "pycharm": {
   "stem_cell": {
    "cell_type": "raw",
    "source": [],
    "metadata": {
     "collapsed": false
    }
   }
  }
 },
 "cells": [
  {
   "cell_type": "markdown",
   "metadata": {
    "id": "view-in-github",
    "colab_type": "text"
   },
   "source": [
    "<a href=\"https://colab.research.google.com/github/marcostark/machine-learning/blob/master/python/MLP.ipynb\" target=\"_parent\"><img src=\"https://colab.research.google.com/assets/colab-badge.svg\" alt=\"Open In Colab\"/></a>"
   ]
  },
  {
   "cell_type": "markdown",
   "metadata": {
    "id": "d1AZtJJtr4us",
    "colab_type": "text"
   },
   "source": [
    "# Multilayer Layer Perceptron"
   ]
  },
  {
   "cell_type": "code",
   "metadata": {
    "id": "fmHAMrCVsCon",
    "colab_type": "code",
    "colab": {}
   },
   "source": [
    "# imports\n",
    "import random\n",
    "import nympy as np\n",
    "\n",
    "class MLP(object):\n",
    "  \n",
    "  def __init__(self, tamanho):\n",
    "    self.numero_camadas = tamanho\n",
    "    self.biases = [np.random.randn(y, 1) for y in tamanhos[1:]]\n",
    "    self.pesos = [np.random.randn(y, x) for x, y in zip(tamanho[:-1], tamanhos[1:])]\n",
    "    \n",
    "  \n",
    "  def feedForward(self, a):\n",
    "    pass\n",
    "  \n",
    "  \n",
    "  def SGD(self, dados_treino, epocas, batch_size, eta, dados_teste = None):\n",
    "    pass\n",
    "  \n",
    "  \n",
    "  def atualiza(self, mini_batch, eta):\n",
    "    pass\n",
    "  \n",
    "  \n",
    "  def backpropagation(self, x, y):\n",
    "    pass\n",
    "  \n",
    "  \n",
    "  def evaluate(self, dados_teste):\n",
    "    pass\n",
    "  \n",
    "  \n",
    "# Função de ativação\n",
    "def sigmoid(z):\n",
    "  pass\n",
    "\n",
    "# Retorna as derivadas da função sigmoide\n",
    "def sigmoid_prime(z):\n",
    "  pass"
   ],
   "execution_count": 0,
   "outputs": []
  },
  {
   "cell_type": "code",
   "execution_count": null,
   "outputs": [],
   "source": [
    "\n"
   ],
   "metadata": {
    "collapsed": false,
    "pycharm": {
     "name": "#%%\n"
    }
   }
  }
 ]
}
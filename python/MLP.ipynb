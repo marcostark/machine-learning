{
  "nbformat": 4,
  "nbformat_minor": 0,
  "metadata": {
    "colab": {
      "name": "Untitled",
      "version": "0.3.2",
      "provenance": [],
      "include_colab_link": true
    },
    "kernelspec": {
      "name": "python3",
      "display_name": "Python 3"
    }
  },
  "cells": [
    {
      "cell_type": "markdown",
      "metadata": {
        "id": "view-in-github",
        "colab_type": "text"
      },
      "source": [
        "<a href=\"https://colab.research.google.com/github/marcostark/machine-learning/blob/master/python/MLP.ipynb\" target=\"_parent\"><img src=\"https://colab.research.google.com/assets/colab-badge.svg\" alt=\"Open In Colab\"/></a>"
      ]
    },
    {
      "cell_type": "markdown",
      "metadata": {
        "id": "d1AZtJJtr4us",
        "colab_type": "text"
      },
      "source": [
        "# Multilayer Layer Perceptron"
      ]
    },
    {
      "cell_type": "code",
      "metadata": {
        "id": "fmHAMrCVsCon",
        "colab_type": "code",
        "colab": {}
      },
      "source": [
        "# imports\n"
      ],
      "execution_count": 0,
      "outputs": []
    }
  ]
}
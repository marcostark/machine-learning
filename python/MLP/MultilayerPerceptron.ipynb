{
  "nbformat": 4,
  "nbformat_minor": 0,
  "metadata": {
    "colab": {
      "name": "MultilayerPerceptron.ipynb",
      "version": "0.3.2",
      "provenance": [],
      "include_colab_link": true
    },
    "language_info": {
      "codemirror_mode": {
        "name": "ipython",
        "version": 2
      },
      "file_extension": ".py",
      "mimetype": "text/x-python",
      "name": "python",
      "nbconvert_exporter": "python",
      "pygments_lexer": "ipython2",
      "version": "2.7.6"
    },
    "kernelspec": {
      "name": "python3",
      "language": "python",
      "display_name": "Python 3"
    }
  },
  "cells": [
    {
      "cell_type": "markdown",
      "metadata": {
        "id": "view-in-github",
        "colab_type": "text"
      },
      "source": [
        "<a href=\"https://colab.research.google.com/github/marcostark/machine-learning/blob/master/python/MLP/MultilayerPerceptron.ipynb\" target=\"_parent\"><img src=\"https://colab.research.google.com/assets/colab-badge.svg\" alt=\"Open In Colab\"/></a>"
      ]
    },
    {
      "cell_type": "markdown",
      "metadata": {
        "collapsed": false,
        "id": "IBUuBqEIdRFM",
        "colab_type": "text"
      },
      "source": [
        "\n",
        "\n",
        "```\n",
        "# This is formatted as code\n",
        "```\n",
        "\n",
        "    Multiplas Camadas"
      ]
    },
    {
      "cell_type": "code",
      "metadata": {
        "pycharm": {
          "name": "#%%\n",
          "is_executing": false
        },
        "id": "HrKl6L6ddRFQ",
        "colab_type": "code",
        "colab": {}
      },
      "source": [
        "class Neuronio(object):\n",
        "  \n",
        "  def __init__ (self, nos_entrada = []):\n",
        "    # Inicialização dos nos\n",
        "    self.nos_entrada = nos_entrada\n",
        "    self.nos_saida = []\n",
        "    \n",
        "    for i in self.nos_entrada:\n",
        "      i.nos_saida.append(self)\n",
        "      \n",
        "      # Valor do calculo\n",
        "      self.valor = None\n",
        "      \n",
        "  \n",
        "  def foward(self):\n",
        "    pass"
      ],
      "execution_count": 0,
      "outputs": []
    },
    {
      "cell_type": "code",
      "metadata": {
        "pycharm": {
          "name": "#%%\n"
        },
        "id": "vGH7qCfOdRFY",
        "colab_type": "code",
        "colab": {}
      },
      "source": [
        "# Subclasse apenas para atualizar o valor, seja um atributo de dados ou um \n",
        "# parametro de modelo peso\n",
        "class Input(Neuronio):\n",
        "  def __init__(self):\n",
        "    Neuronio.__init__(self)\n",
        "    \n",
        "  def foward(self, valor = None):\n",
        "    # Se o valor passado for diferente de none, atualiza o valor atual\n",
        "    if valor is not None:\n",
        "      self.valor = valor"
      ],
      "execution_count": 0,
      "outputs": []
    },
    {
      "cell_type": "code",
      "metadata": {
        "id": "9b3HeiU4fFHB",
        "colab_type": "code",
        "colab": {}
      },
      "source": [
        "# Recebe os valor dos nps e adiciona os valores desses nós\n",
        "class Add(Neuronio):\n",
        "  def __init__(self, x, y):\n",
        "    # Passando uma lista como valores e entrada e saida\n",
        "    Neuronio.__init__(self, [x,y]) \n",
        "  \n",
        "  def forward(self):\n",
        "    pass"
      ],
      "execution_count": 0,
      "outputs": []
    },
    {
      "cell_type": "code",
      "metadata": {
        "id": "8YuZIIDTf1MJ",
        "colab_type": "code",
        "colab": {}
      },
      "source": [
        ""
      ],
      "execution_count": 0,
      "outputs": []
    },
    {
      "cell_type": "code",
      "metadata": {
        "id": "15OPBHzyfzWh",
        "colab_type": "code",
        "colab": {}
      },
      "source": [
        ""
      ],
      "execution_count": 0,
      "outputs": []
    }
  ]
}